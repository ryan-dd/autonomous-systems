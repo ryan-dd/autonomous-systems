{
 "cells": [
  {
   "cell_type": "markdown",
   "metadata": {},
   "source": [
    "# Derivation of state space equation from equations of motion"
   ]
  },
  {
   "cell_type": "markdown",
   "metadata": {},
   "source": [
    "## Equations of motion\n",
    "$m \\dot{v} + bv = F(t)$\n",
    "\n",
    "$\\dot{x} = v$"
   ]
  },
  {
   "cell_type": "markdown",
   "metadata": {},
   "source": [
    "## Define state variables\n",
    "$x_{1} = x$\n",
    "\n",
    "$x_{2} = \\dot{x} = v$\n",
    "\n",
    "$\\dot{x_{1}} = x_{2}$\n",
    "\n",
    "$\\dot{x_{2}} = \\dot{v} = \\frac{F(t)}{m} - \\frac{bx_{2}}{m}$\n",
    "\n",
    "$y = x_{1}$\n",
    "\n",
    "$u = F(t)$"
   ]
  },
  {
   "cell_type": "markdown",
   "metadata": {},
   "source": [
    "## State space form\n",
    "$\\begin{bmatrix}\n",
    "\\dot{x_{1}} \\\\\n",
    "\\dot{x_{2}}\n",
    "\\end{bmatrix}\n",
    "= \n",
    "\\begin{bmatrix}\n",
    "0 & 1 \\\\\n",
    "0 & -\\frac{b}{m}\n",
    "\\end{bmatrix}\n",
    "\\begin{bmatrix}\n",
    " x_{1}\\\\\n",
    "x_{2}\n",
    "\\end{bmatrix}\n",
    "+\n",
    "\\begin{bmatrix}\n",
    " 0\\\\\n",
    "\\frac{1}{m}\n",
    "\\end{bmatrix}u\n",
    "$\n",
    "\n",
    "$\n",
    "y = \\begin{bmatrix} 1 & 0 \\end{bmatrix} \n",
    "\\begin{bmatrix} x_{1} \\\\ x_{2} \\end{bmatrix}\n",
    "+\n",
    "\\begin{bmatrix} 0 \\\\ 0 \\end{bmatrix}u\n",
    "$"
   ]
  }
 ],
 "metadata": {
  "kernelspec": {
   "display_name": "Python 3",
   "language": "python",
   "name": "python3"
  },
  "language_info": {
   "codemirror_mode": {
    "name": "ipython",
    "version": 3
   },
   "file_extension": ".py",
   "mimetype": "text/x-python",
   "name": "python",
   "nbconvert_exporter": "python",
   "pygments_lexer": "ipython3",
   "version": "3.7.4"
  }
 },
 "nbformat": 4,
 "nbformat_minor": 2
}
